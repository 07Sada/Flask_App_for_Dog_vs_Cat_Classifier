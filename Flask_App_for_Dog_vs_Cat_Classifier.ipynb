{
  "nbformat": 4,
  "nbformat_minor": 0,
  "metadata": {
    "colab": {
      "provenance": [],
      "mount_file_id": "1w_Oop8_F2SBdDZvct0chVLYojPCuIG0H",
      "authorship_tag": "ABX9TyNigtEP2kqEVNd+TS+bRqwz",
      "include_colab_link": true
    },
    "kernelspec": {
      "name": "python3",
      "display_name": "Python 3"
    },
    "language_info": {
      "name": "python"
    },
    "gpuClass": "standard"
  },
  "cells": [
    {
      "cell_type": "markdown",
      "metadata": {
        "id": "view-in-github",
        "colab_type": "text"
      },
      "source": [
        "<a href=\"https://colab.research.google.com/github/07Sada/Flask_App_for_Dog_vs_Cat_Classifier/blob/main/Flask_App_for_Dog_vs_Cat_Classifier.ipynb\" target=\"_parent\"><img src=\"https://colab.research.google.com/assets/colab-badge.svg\" alt=\"Open In Colab\"/></a>"
      ]
    },
    {
      "cell_type": "code",
      "execution_count": 1,
      "metadata": {
        "colab": {
          "base_uri": "https://localhost:8080/"
        },
        "id": "ewdd7um_xWu_",
        "outputId": "84a83c1c-5f35-4630-b16f-2e940ceebf35"
      },
      "outputs": [
        {
          "output_type": "stream",
          "name": "stdout",
          "text": [
            "  Preparing metadata (setup.py) ... \u001b[?25l\u001b[?25hdone\n",
            "  Building wheel for pyngrok (setup.py) ... \u001b[?25l\u001b[?25hdone\n",
            "Authtoken saved to configuration file: /root/.ngrok2/ngrok.yml\n"
          ]
        }
      ],
      "source": [
        "!pip install flask_ngrok -q\n",
        "!pip install pyngrok==4.1.1 -q\n",
        "!ngrok authtoken 2LOy3XSytdYvTahjGDaWavbqgvc_znu9CfkPgNyh2DRAiuRg"
      ]
    },
    {
      "cell_type": "code",
      "source": [
        "from google.colab import drive\n",
        "drive.mount('/drive')"
      ],
      "metadata": {
        "colab": {
          "base_uri": "https://localhost:8080/"
        },
        "id": "HzBxjBPWzibI",
        "outputId": "220258a8-a028-4c13-eec4-cf1c38765d4e"
      },
      "execution_count": 4,
      "outputs": [
        {
          "output_type": "stream",
          "name": "stdout",
          "text": [
            "Mounted at /drive\n"
          ]
        }
      ]
    },
    {
      "cell_type": "code",
      "source": [
        "# Import the necessary libraries\n",
        "from flask import Flask\n",
        "from flask.templating import render_template\n",
        "from flask_ngrok import run_with_ngrok\n",
        "\n",
        "# Specify the path to the folder containing the HTML templates\n",
        "template_folder = \"/content/drive/MyDrive/Dog_vs_Cat_Classifier/templates\"\n",
        "\n",
        "# Create an instance of the Flask class\n",
        "app = Flask(__name__, template_folder=template_folder)\n",
        "\n",
        "# Run the Flask application with ngrok\n",
        "run_with_ngrok(app)\n",
        "\n",
        "# Define the root route and the home route\n",
        "@app.route(\"/\")\n",
        "@app.route(\"/home\")\n",
        "def home():\n",
        "  # Return the index.html template\n",
        "  return render_template('index.html')\n",
        "\n",
        "# Run the Flask application on the local development server\n",
        "app.run()\n"
      ],
      "metadata": {
        "colab": {
          "base_uri": "https://localhost:8080/"
        },
        "id": "6hFosC5NzysB",
        "outputId": "5dc39295-36e1-4241-f898-f759b8792769"
      },
      "execution_count": 4,
      "outputs": [
        {
          "output_type": "stream",
          "name": "stdout",
          "text": [
            " * Serving Flask app \"__main__\" (lazy loading)\n",
            " * Environment: production\n",
            "\u001b[31m   WARNING: This is a development server. Do not use it in a production deployment.\u001b[0m\n",
            "\u001b[2m   Use a production WSGI server instead.\u001b[0m\n",
            " * Debug mode: off\n"
          ]
        },
        {
          "output_type": "stream",
          "name": "stderr",
          "text": [
            "INFO:werkzeug: * Running on http://127.0.0.1:5000/ (Press CTRL+C to quit)\n"
          ]
        },
        {
          "output_type": "stream",
          "name": "stdout",
          "text": [
            " * Running on http://eb85-35-245-157-139.ngrok.io\n",
            " * Traffic stats available on http://127.0.0.1:4040\n"
          ]
        },
        {
          "output_type": "stream",
          "name": "stderr",
          "text": [
            "INFO:werkzeug:127.0.0.1 - - [09/Feb/2023 06:20:35] \"\u001b[37mGET / HTTP/1.1\u001b[0m\" 200 -\n"
          ]
        }
      ]
    },
    {
      "cell_type": "markdown",
      "source": [
        "# Flask App for Dog vs Cat Classifier\n",
        "\n",
        "This code creates a Flask application for a dog vs cat classifier, which is a web-based interface that allows users to classify images of dogs and cats.\n",
        "\n",
        "## Imports\n",
        "\n",
        "- `flask`: A Python micro web framework used to build web applications.\n",
        "- `flask.templating`: A module that provides the ability to render templates in Flask.\n",
        "- `flask_ngrok`: An extension that allows us to expose Flask applications to the internet.\n",
        "\n",
        "## Variables\n",
        "\n",
        "- `template_folder`: A string that represents the path to the folder containing the HTML templates for the Flask application.\n",
        "- `app`: An instance of the Flask class, which represents the main Flask application.\n",
        "\n",
        "## Route Decorators\n",
        "\n",
        "- `@app.route(\"/\")`: A decorator that defines the root route of the Flask application.\n",
        "- `@app.route(\"/home\")`: A decorator that defines a route to the home page of the Flask application.\n",
        "\n",
        "## Functions\n",
        "\n",
        "- `home()`: A function that returns the `index.html` template. This is the default page displayed when a user visits the root route of the Flask application.\n",
        "\n",
        "## Running the Application\n",
        "\n",
        "The `run_with_ngrok` function is used to run the Flask application with ngrok, which makes the application accessible from the internet.\n",
        "Finally, the `app.run()` function is used to run the Flask application on the local development server.\n"
      ],
      "metadata": {
        "id": "KXHqt6a32gS4"
      }
    },
    {
      "cell_type": "code",
      "source": [],
      "metadata": {
        "id": "XlasZZ0e2hdD"
      },
      "execution_count": null,
      "outputs": []
    }
  ]
}